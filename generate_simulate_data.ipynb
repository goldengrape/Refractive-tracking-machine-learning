{
 "cells": [
  {
   "cell_type": "markdown",
   "metadata": {},
   "source": [
    "# 产生模拟WAM5500数据文件"
   ]
  },
  {
   "cell_type": "code",
   "execution_count": 1,
   "metadata": {
    "ExecuteTime": {
     "end_time": "2018-05-04T16:16:22.941729Z",
     "start_time": "2018-05-04T16:16:22.930567Z"
    }
   },
   "outputs": [],
   "source": [
    "N=200\n",
    "class_N=2\n",
    "fpath=\"data_sim\"\n",
    "class_filename=\"class_sim.csv\""
   ]
  },
  {
   "cell_type": "code",
   "execution_count": 2,
   "metadata": {
    "ExecuteTime": {
     "end_time": "2018-05-04T16:16:23.637777Z",
     "start_time": "2018-05-04T16:16:22.945743Z"
    }
   },
   "outputs": [],
   "source": [
    "import numpy as np\n",
    "import pandas as pd\n",
    "import os"
   ]
  },
  {
   "cell_type": "markdown",
   "metadata": {},
   "source": [
    "## 产生分类文件"
   ]
  },
  {
   "cell_type": "code",
   "execution_count": 3,
   "metadata": {
    "ExecuteTime": {
     "end_time": "2018-05-04T16:16:23.655958Z",
     "start_time": "2018-05-04T16:16:23.642334Z"
    }
   },
   "outputs": [],
   "source": [
    "def generate_class_file(fpath,class_filename,N,class_N):\n",
    "    df_class=pd.DataFrame()\n",
    "    df_class[\"class\"]=np.random.randint(class_N, size=N)\n",
    "    df_class[\"filename\"]=[\"WCSD\"+'{:04}'.format(i)+\".csv\" for i in range(N)]\n",
    "    df_class.to_csv(os.path.join(fpath,class_filename),index=False)\n",
    "    return"
   ]
  },
  {
   "cell_type": "code",
   "execution_count": 4,
   "metadata": {
    "ExecuteTime": {
     "end_time": "2018-05-04T16:16:23.687070Z",
     "start_time": "2018-05-04T16:16:23.665135Z"
    }
   },
   "outputs": [],
   "source": [
    "generate_class_file(fpath,class_filename,N,class_N)"
   ]
  },
  {
   "cell_type": "markdown",
   "metadata": {},
   "source": [
    "# 产生单个记录文件"
   ]
  },
  {
   "cell_type": "markdown",
   "metadata": {},
   "source": [
    "## 产生time数据"
   ]
  },
  {
   "cell_type": "code",
   "execution_count": 5,
   "metadata": {
    "ExecuteTime": {
     "end_time": "2018-05-04T16:16:23.699197Z",
     "start_time": "2018-05-04T16:16:23.690183Z"
    }
   },
   "outputs": [],
   "source": [
    "def build_time_data(n_data):\n",
    "    base_data=np.random.randn(n_data,1)*0.05+0.2\n",
    "    time_data=np.cumsum(base_data)\n",
    "    time_data[0]=0\n",
    "    return time_data"
   ]
  },
  {
   "cell_type": "markdown",
   "metadata": {},
   "source": [
    "## 产生power数据"
   ]
  },
  {
   "cell_type": "code",
   "execution_count": 6,
   "metadata": {
    "ExecuteTime": {
     "end_time": "2018-05-04T16:16:23.716496Z",
     "start_time": "2018-05-04T16:16:23.703256Z"
    }
   },
   "outputs": [],
   "source": [
    "def build_power_data(n_data, mean=-4.5, std=0.1):\n",
    "    base_data=np.random.randn(n_data,1)*std+mean\n",
    "    power_data=base_data\n",
    "    return power_data"
   ]
  },
  {
   "cell_type": "markdown",
   "metadata": {},
   "source": [
    "## 产生pupil数据"
   ]
  },
  {
   "cell_type": "code",
   "execution_count": 7,
   "metadata": {
    "ExecuteTime": {
     "end_time": "2018-05-04T16:16:23.731024Z",
     "start_time": "2018-05-04T16:16:23.721033Z"
    }
   },
   "outputs": [],
   "source": [
    "def build_pupil_data(n_data,mean=3.5, std=0.1):\n",
    "    base_data=np.random.randn(n_data,1)*std+mean\n",
    "    pupil_data=base_data\n",
    "    return pupil_data"
   ]
  },
  {
   "cell_type": "markdown",
   "metadata": {},
   "source": [
    "## 产生首行数据"
   ]
  },
  {
   "cell_type": "code",
   "execution_count": 8,
   "metadata": {
    "ExecuteTime": {
     "end_time": "2018-05-04T16:16:23.740619Z",
     "start_time": "2018-05-04T16:16:23.735035Z"
    }
   },
   "outputs": [],
   "source": [
    "def build_head_row_data():\n",
    "    return [\"WAM5500\",\"DATA-000\",\"2018/5/3\",\"16:30:05\",\"    \"]"
   ]
  },
  {
   "cell_type": "markdown",
   "metadata": {},
   "source": [
    "## 产生单个csv文件所需数据库"
   ]
  },
  {
   "cell_type": "code",
   "execution_count": 9,
   "metadata": {
    "ExecuteTime": {
     "end_time": "2018-05-04T16:16:23.788638Z",
     "start_time": "2018-05-04T16:16:23.744429Z"
    }
   },
   "outputs": [],
   "source": [
    "def build_data_df(this_class):\n",
    "    n_data=np.random.randint(30,40)\n",
    "    \n",
    "    if this_class == 0:\n",
    "        power_mean=-4\n",
    "        power_std=0.2\n",
    "        pupil_mean=4\n",
    "        pupil_std=0.2\n",
    "    else:\n",
    "        power_mean=-4.5\n",
    "        power_std=0.3\n",
    "        pupil_mean=3.5\n",
    "        pupil_std=0.3\n",
    "    time_data=build_time_data(n_data)\n",
    "    power_data=build_power_data(n_data, mean=power_mean, std=power_std)\n",
    "    pupil_data=build_pupil_data(n_data,mean=pupil_mean, std=pupil_std)\n",
    "    \n",
    "    df=pd.DataFrame()\n",
    "    df[\"WAM5500\"]=time_data\n",
    "    df[\"DATA-000\"]=\"L\"\n",
    "    df[\"2018/5/3\"]=\"OFF\"\n",
    "    df[\"16:30:05\"]=power_data\n",
    "    df[\" \"]=pupil_data\n",
    "    return df"
   ]
  },
  {
   "cell_type": "markdown",
   "metadata": {},
   "source": [
    "# 根据分类文件存储数据文件"
   ]
  },
  {
   "cell_type": "code",
   "execution_count": 10,
   "metadata": {
    "ExecuteTime": {
     "end_time": "2018-05-04T16:16:25.421665Z",
     "start_time": "2018-05-04T16:16:23.792275Z"
    }
   },
   "outputs": [],
   "source": [
    "df_class = pd.read_csv(os.path.join(fpath,class_filename))\n",
    "for idx,class_data in df_class.iterrows():\n",
    "    this_class=class_data[\"class\"]\n",
    "    this_filename=class_data[\"filename\"]\n",
    "    df_data=build_data_df(this_class)\n",
    "    df_data.to_csv(os.path.join(fpath,this_filename),index=False)"
   ]
  },
  {
   "cell_type": "code",
   "execution_count": null,
   "metadata": {},
   "outputs": [],
   "source": []
  }
 ],
 "metadata": {
  "kernelspec": {
   "display_name": "Python 3",
   "language": "python",
   "name": "python3"
  },
  "language_info": {
   "codemirror_mode": {
    "name": "ipython",
    "version": 3
   },
   "file_extension": ".py",
   "mimetype": "text/x-python",
   "name": "python",
   "nbconvert_exporter": "python",
   "pygments_lexer": "ipython3",
   "version": "3.5.5"
  },
  "toc": {
   "colors": {
    "hover_highlight": "#DAA520",
    "navigate_num": "#000000",
    "navigate_text": "#333333",
    "running_highlight": "#FF0000",
    "selected_highlight": "#FFD700",
    "sidebar_border": "#EEEEEE",
    "wrapper_background": "#FFFFFF"
   },
   "moveMenuLeft": true,
   "nav_menu": {
    "height": "212px",
    "width": "254px"
   },
   "navigate_menu": true,
   "number_sections": true,
   "sideBar": true,
   "threshold": 4,
   "toc_cell": false,
   "toc_section_display": "block",
   "toc_window_display": false,
   "widenNotebook": false
  }
 },
 "nbformat": 4,
 "nbformat_minor": 2
}
