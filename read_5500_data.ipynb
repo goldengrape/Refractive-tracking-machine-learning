{
 "cells": [
  {
   "cell_type": "markdown",
   "metadata": {
    "collapsed": true
   },
   "source": [
    "# 读取WAM5500数据文件\n"
   ]
  },
  {
   "cell_type": "markdown",
   "metadata": {},
   "source": [
    "一组调节测试仪器WAM5500的数据文件, 例如:  \n",
    "\n",
    "|分类|数据文件名|\n",
    "|:--|:--|\n",
    "|有病|001.csv|\n",
    "|有病|002.csv|\n",
    "|没病|003.csv|\n",
    "|有病|004.csv|\n",
    "\n",
    "说明文件存储在class_fname所指定的文件中. \n"
   ]
  },
  {
   "cell_type": "code",
   "execution_count": 1,
   "metadata": {
    "ExecuteTime": {
     "end_time": "2018-05-04T14:05:12.506691Z",
     "start_time": "2018-05-04T14:05:11.773931Z"
    }
   },
   "outputs": [],
   "source": [
    "import pandas as pd\n",
    "import os\n",
    "import numpy as np"
   ]
  },
  {
   "cell_type": "code",
   "execution_count": 9,
   "metadata": {
    "ExecuteTime": {
     "end_time": "2018-05-04T15:48:15.007677Z",
     "start_time": "2018-05-04T15:48:14.867220Z"
    }
   },
   "outputs": [],
   "source": [
    "if __name__==\"__main__\":\n",
    "    fpath=\"data_sim\"\n",
    "    class_fname=\"class_sim.csv\""
   ]
  },
  {
   "cell_type": "markdown",
   "metadata": {},
   "source": [
    "## 读取单个文件"
   ]
  },
  {
   "cell_type": "code",
   "execution_count": 14,
   "metadata": {
    "ExecuteTime": {
     "end_time": "2018-05-04T15:49:39.936616Z",
     "start_time": "2018-05-04T15:49:39.861673Z"
    }
   },
   "outputs": [],
   "source": [
    "def read_raw_data(filename):\n",
    "    # csv文件中, 首行数据记录了机器型号, , 测量日期, 测量起始时间, 此信息略去未读取\n",
    "    # 原始数据从下一行开始\n",
    "    raw_data=pd.read_csv(filename,header=None,skiprows=1,index_col=False)\n",
    "    # 数据列分别表示记录时间, 记录眼别, 视标位置, 屈光, 瞳孔直径\n",
    "    raw_data.columns=[\"time\",\"eye\",\"target\",\"power\",\"pupil\"]\n",
    "    # 其中眼别和视标位置看起来对学习不重要, 故略去\n",
    "    raw_data=raw_data[[\"time\",\"power\",\"pupil\"]]\n",
    "    \n",
    "    # 测量时间使用pandas datetime格式记录, 容易使用时间间隔进行数据提取, 日期不重要\n",
    "    raw_data[\"time\"]=pd.to_datetime(raw_data[\"time\"],unit='s')\n",
    "    \n",
    "    # 其他数据以float方式记录, 空缺数据记录为NaN\n",
    "    try:\n",
    "        raw_data[\"power\"]=pd.to_numeric(raw_data[\"power\"].str.strip())\n",
    "    except:\n",
    "        raw_data[\"power\"]=pd.to_numeric(raw_data[\"power\"])\n",
    "    try:\n",
    "        raw_data[\"pupil\"]=pd.to_numeric(raw_data[\"pupil\"].str.strip())\n",
    "    except:\n",
    "        raw_data[\"pupil\"]=pd.to_numeric(raw_data[\"pupil\"])\n",
    "\n",
    "    # 丢弃空缺数据所在行\n",
    "    raw_data.dropna(inplace=True)\n",
    "    return raw_data"
   ]
  },
  {
   "cell_type": "markdown",
   "metadata": {},
   "source": [
    "## 按照时间裁剪\n",
    "测量的时间通常比所需要的时间长, 因此需要按照裁剪出指定时长的数据. \n",
    "由于有可能存在数据点丢失, 所以指定时长的数据可能数量并不相等, 需要补齐. "
   ]
  },
  {
   "cell_type": "code",
   "execution_count": 15,
   "metadata": {
    "ExecuteTime": {
     "end_time": "2018-05-04T15:49:40.902931Z",
     "start_time": "2018-05-04T15:49:40.817171Z"
    },
    "scrolled": true
   },
   "outputs": [],
   "source": [
    "def cut_by_time(df,start_time=0, duration=5):\n",
    "    # 获取一段时间内的数据\n",
    "    # 测量时间通常长于所需要的时间, 因此需要截取\n",
    "    start_timestamp=pd.to_datetime(start_time,unit='s')\n",
    "    end_timestamp=pd.to_datetime(start_time+duration,unit=\"s\")\n",
    "    df= df.where((df.time>=start_timestamp) & (df.time<=end_timestamp)).dropna()\n",
    "    \n",
    "    #将时间格式转换回float\n",
    "    df.time=pd.to_numeric(df.time)/10e8\n",
    "    return df\n",
    "\n",
    "def padding_time(df,duration=5,redundancy=5,padding_with=\"last\"):\n",
    "    # 将数据补齐\n",
    "    # 通常每秒有4-5个数据. \n",
    "    # 默认以最后一项补齐,否则以padding_with补齐\n",
    "    redundancy_length=duration*5+redundancy\n",
    "    add_length=redundancy_length-len(df)\n",
    "    if padding_with==\"last\":\n",
    "        padding_item=df.tail(1)\n",
    "    else:\n",
    "        padding_item=pd.DataFrame(np.ones((1,df.shape[1]))*padding_with,columns=df.columns)\n",
    "    df2=pd.concat([padding_item]*add_length)\n",
    "    new_df=df.append(df2).reset_index()[df.columns]\n",
    "    return new_df\n",
    "\n"
   ]
  },
  {
   "cell_type": "markdown",
   "metadata": {},
   "source": [
    "## 读取数据文件的整合\n",
    "按照文件名读取数据, 然后按照时间范围截取, 清理"
   ]
  },
  {
   "cell_type": "code",
   "execution_count": 16,
   "metadata": {
    "ExecuteTime": {
     "end_time": "2018-05-04T15:49:41.933480Z",
     "start_time": "2018-05-04T15:49:41.920694Z"
    }
   },
   "outputs": [],
   "source": [
    "def get_data(fpath, filename,start_time=0,duration=5,redundancy=5,padding_with=\"last\"):\n",
    "    # 按照文件名读取数据\n",
    "    # 依次进行数据清理\n",
    "    # 返回Numpy array\n",
    "    data_filename=os.path.join(fpath,filename)\n",
    "    df=read_raw_data(data_filename)\n",
    "    df=cut_by_time(df,start_time=start_time, duration=duration)\n",
    "    df=padding_time(df,duration=duration,redundancy=redundancy,padding_with=padding_with)\n",
    "    ans=df.values.reshape(1,-1)\n",
    "#     ans=df.values\n",
    "    return ans"
   ]
  },
  {
   "cell_type": "code",
   "execution_count": 17,
   "metadata": {
    "ExecuteTime": {
     "end_time": "2018-05-04T15:49:42.827679Z",
     "start_time": "2018-05-04T15:49:42.659509Z"
    }
   },
   "outputs": [
    {
     "name": "stdout",
     "output_type": "stream",
     "text": [
      "       time     power     pupil\n",
      "0  0.000000 -4.433566  3.320487\n",
      "1  0.377565 -4.523100  3.657317\n",
      "2  0.521350 -4.519972  3.481227\n",
      "3  0.700142 -4.644160  3.503870\n",
      "4  0.857753 -4.547023  3.665108\n",
      "        time    power     pupil\n",
      "25  4.944403 -4.51704  3.339317\n",
      "26  4.944403 -4.51704  3.339317\n",
      "27  4.944403 -4.51704  3.339317\n",
      "28  4.944403 -4.51704  3.339317\n",
      "29  4.944403 -4.51704  3.339317\n"
     ]
    }
   ],
   "source": [
    "# 测试\n",
    "if __name__==\"__main__\":\n",
    "    fname=\"WCSD0006.csv\"\n",
    "    data_filename=os.path.join(fpath,fname)\n",
    "    raw_data=read_raw_data(data_filename)\n",
    "    raw_data=cut_by_time(raw_data)\n",
    "    raw_data=padding_time(raw_data)\n",
    "    print(raw_data.head())\n",
    "    print(raw_data.tail())"
   ]
  },
  {
   "cell_type": "markdown",
   "metadata": {},
   "source": [
    "# 读取分类文件\n",
    "\n",
    "分类文件是一个csv文件, 记录了每一个数据文件的分类和文件名"
   ]
  },
  {
   "cell_type": "code",
   "execution_count": 18,
   "metadata": {
    "ExecuteTime": {
     "end_time": "2018-05-04T15:55:54.412939Z",
     "start_time": "2018-05-04T15:55:54.400321Z"
    }
   },
   "outputs": [],
   "source": [
    "def get_5500_data(fpath,class_fname,start_time=0,duration=5,redundancy=5,padding_with=\"last\"):\n",
    "    class_filename=os.path.join(fpath,class_fname)\n",
    "    class_data=pd.read_csv(class_filename)\n",
    "    X=np.vstack([get_data(fpath, data[\"filename\"],\n",
    "                          start_time=start_time,\n",
    "                          duration=duration,\n",
    "                          redundancy=redundancy,\n",
    "                          padding_with=padding_with) \n",
    "                 for idx,data in class_data.iterrows()])\n",
    "    y=class_data[\"class\"].values#.reshape(-1,1)\n",
    "    return X,y\n"
   ]
  },
  {
   "cell_type": "code",
   "execution_count": 8,
   "metadata": {
    "ExecuteTime": {
     "end_time": "2018-05-04T14:05:13.365216Z",
     "start_time": "2018-05-04T14:05:12.843410Z"
    }
   },
   "outputs": [
    {
     "name": "stdout",
     "output_type": "stream",
     "text": [
      "[[ 0.   -4.74  3.3   0.56 -4.21  3.3   0.71 -4.63  3.2   0.88 -4.68  3.2\n",
      "   1.06 -4.21  3.2   1.23 -4.66  3.2   1.4  -4.72  3.2   1.56 -4.37  3.2\n",
      "   1.73 -4.73  3.2   1.9  -4.29  3.3   2.05 -4.63  3.2   2.23 -4.7   3.3\n",
      "   2.4  -4.33  3.2   2.55 -4.27  3.2   2.73 -4.28  3.3   2.9  -4.34  3.3\n",
      "   3.05 -4.72  3.3   3.22 -4.39  3.3   3.4  -4.73  3.3   3.55 -4.59  3.3\n",
      "   3.72 -4.75  3.4   3.9  -4.76  3.4   4.05 -4.79  3.5   4.22 -4.76  3.5\n",
      "   4.39 -4.81  3.5   4.55 -4.8   3.4   4.72 -4.78  3.4   4.89 -4.76  3.4\n",
      "   4.89 -4.76  3.4   4.89 -4.76  3.4 ]\n",
      " [ 0.   -4.74  3.3   0.56 -4.21  3.3   0.71 -4.63  3.2   0.88 -4.68  3.2\n",
      "   1.06 -4.21  3.2   1.23 -4.66  3.2   1.4  -4.72  3.2   1.56 -4.37  3.2\n",
      "   1.73 -4.73  3.2   1.9  -4.29  3.3   2.05 -4.63  3.2   2.23 -4.7   3.3\n",
      "   2.4  -4.33  3.2   2.55 -4.27  3.2   2.73 -4.28  3.3   2.9  -4.34  3.3\n",
      "   3.05 -4.72  3.3   3.22 -4.39  3.3   3.4  -4.73  3.3   3.55 -4.59  3.3\n",
      "   3.72 -4.75  3.4   3.9  -4.76  3.4   4.05 -4.79  3.5   4.22 -4.76  3.5\n",
      "   4.39 -4.81  3.5   4.55 -4.8   3.4   4.72 -4.78  3.4   4.89 -4.76  3.4\n",
      "   4.89 -4.76  3.4   4.89 -4.76  3.4 ]\n",
      " [ 0.   -4.74  3.3   0.56 -4.21  3.3   0.71 -4.63  3.2   0.88 -4.68  3.2\n",
      "   1.06 -4.21  3.2   1.23 -4.66  3.2   1.4  -4.72  3.2   1.56 -4.37  3.2\n",
      "   1.73 -4.73  3.2   1.9  -4.29  3.3   2.05 -4.63  3.2   2.23 -4.7   3.3\n",
      "   2.4  -4.33  3.2   2.55 -4.27  3.2   2.73 -4.28  3.3   2.9  -4.34  3.3\n",
      "   3.05 -4.72  3.3   3.22 -4.39  3.3   3.4  -4.73  3.3   3.55 -4.59  3.3\n",
      "   3.72 -4.75  3.4   3.9  -4.76  3.4   4.05 -4.79  3.5   4.22 -4.76  3.5\n",
      "   4.39 -4.81  3.5   4.55 -4.8   3.4   4.72 -4.78  3.4   4.89 -4.76  3.4\n",
      "   4.89 -4.76  3.4   4.89 -4.76  3.4 ]\n",
      " [ 0.   -4.74  3.3   0.56 -4.21  3.3   0.71 -4.63  3.2   0.88 -4.68  3.2\n",
      "   1.06 -4.21  3.2   1.23 -4.66  3.2   1.4  -4.72  3.2   1.56 -4.37  3.2\n",
      "   1.73 -4.73  3.2   1.9  -4.29  3.3   2.05 -4.63  3.2   2.23 -4.7   3.3\n",
      "   2.4  -4.33  3.2   2.55 -4.27  3.2   2.73 -4.28  3.3   2.9  -4.34  3.3\n",
      "   3.05 -4.72  3.3   3.22 -4.39  3.3   3.4  -4.73  3.3   3.55 -4.59  3.3\n",
      "   3.72 -4.75  3.4   3.9  -4.76  3.4   4.05 -4.79  3.5   4.22 -4.76  3.5\n",
      "   4.39 -4.81  3.5   4.55 -4.8   3.4   4.72 -4.78  3.4   4.89 -4.76  3.4\n",
      "   4.89 -4.76  3.4   4.89 -4.76  3.4 ]]\n",
      "[[1]\n",
      " [1]\n",
      " [0]\n",
      " [0]]\n"
     ]
    }
   ],
   "source": [
    "# 测试\n",
    "if __name__==\"__main__\":\n",
    "    X,y=get_5500_data(fpath,class_fname)\n",
    "    print(X)\n",
    "    print(y)"
   ]
  }
 ],
 "metadata": {
  "kernelspec": {
   "display_name": "Python 3",
   "language": "python",
   "name": "python3"
  },
  "language_info": {
   "codemirror_mode": {
    "name": "ipython",
    "version": 3
   },
   "file_extension": ".py",
   "mimetype": "text/x-python",
   "name": "python",
   "nbconvert_exporter": "python",
   "pygments_lexer": "ipython3",
   "version": "3.5.5"
  },
  "toc": {
   "colors": {
    "hover_highlight": "#DAA520",
    "navigate_num": "#000000",
    "navigate_text": "#333333",
    "running_highlight": "#FF0000",
    "selected_highlight": "#FFD700",
    "sidebar_border": "#EEEEEE",
    "wrapper_background": "#FFFFFF"
   },
   "moveMenuLeft": true,
   "nav_menu": {
    "height": "114px",
    "width": "254px"
   },
   "navigate_menu": true,
   "number_sections": true,
   "sideBar": true,
   "threshold": 4,
   "toc_cell": false,
   "toc_section_display": "block",
   "toc_window_display": false,
   "widenNotebook": false
  }
 },
 "nbformat": 4,
 "nbformat_minor": 2
}
