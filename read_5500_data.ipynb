{
 "cells": [
  {
   "cell_type": "markdown",
   "metadata": {
    "collapsed": true
   },
   "source": [
    "# 读取WAM5500数据文件\n"
   ]
  },
  {
   "cell_type": "code",
   "execution_count": 1,
   "metadata": {},
   "outputs": [],
   "source": [
    "import pandas as pd\n",
    "import os\n",
    "import numpy as np"
   ]
  },
  {
   "cell_type": "markdown",
   "metadata": {},
   "source": [
    "指定文件路径"
   ]
  },
  {
   "cell_type": "code",
   "execution_count": 2,
   "metadata": {},
   "outputs": [],
   "source": [
    "fpath=\"data\"\n",
    "fname=\"WCSD0006.csv\"\n",
    "data_filename=os.path.join(fpath,fname)"
   ]
  },
  {
   "cell_type": "code",
   "execution_count": 5,
   "metadata": {
    "scrolled": true
   },
   "outputs": [],
   "source": [
    "def read_raw_data(filename):\n",
    "    # csv文件中, 首行数据记录了机器型号, , 测量日期, 测量起始时间, 此信息略去未读取\n",
    "    # 原始数据从下一行开始\n",
    "    raw_data=pd.read_csv(filename,header=None,skiprows=1,index_col=False)\n",
    "    # 数据列分别表示记录时间, 记录眼别, 视标位置, 屈光, 瞳孔直径\n",
    "    raw_data.columns=[\"time\",\"eye\",\"target\",\"power\",\"pupil\"]\n",
    "    # 其中眼别和视标位置看起来对学习不重要, 故略去\n",
    "    raw_data=raw_data[[\"time\",\"power\",\"pupil\"]]\n",
    "    \n",
    "    # 测量时间使用pandas datetime格式记录, 容易使用时间间隔进行数据提取, 日期不重要\n",
    "    raw_data[\"time\"]=pd.to_datetime(raw_data[\"time\"],unit='s')\n",
    "    \n",
    "    # 其他数据以float方式记录, 空缺数据记录为NaN\n",
    "    raw_data[\"power\"]=pd.to_numeric(raw_data[\"power\"].str.strip())\n",
    "    raw_data[\"pupil\"]=pd.to_numeric(raw_data[\"pupil\"].str.strip())\n",
    "    \n",
    "    # 丢弃空缺数据所在行\n",
    "    raw_data.dropna(inplace=True)\n",
    "    return raw_data"
   ]
  },
  {
   "cell_type": "code",
   "execution_count": 6,
   "metadata": {},
   "outputs": [
    {
     "name": "stdout",
     "output_type": "stream",
     "text": [
      "                     time  power  pupil\n",
      "0 1970-01-01 00:00:00.000  -4.74    3.3\n",
      "1 1970-01-01 00:00:00.560  -4.21    3.3\n",
      "2 1970-01-01 00:00:00.710  -4.63    3.2\n",
      "3 1970-01-01 00:00:00.880  -4.68    3.2\n",
      "4 1970-01-01 00:00:01.060  -4.21    3.2\n"
     ]
    }
   ],
   "source": [
    "# 测试\n",
    "if __name__==\"__main__\":\n",
    "    raw_data=read_raw_data(data_filename)\n",
    "    print(raw_data.head())"
   ]
  },
  {
   "cell_type": "markdown",
   "metadata": {},
   "source": [
    "# 读取分类文件\n",
    "\n",
    "分类文件是一个excel文件, 记录了分类和文件名"
   ]
  },
  {
   "cell_type": "code",
   "execution_count": 7,
   "metadata": {},
   "outputs": [],
   "source": [
    "class_fname=\"class.xlsx\"\n",
    "class_filename=os.path.join(fpath,class_fname)"
   ]
  },
  {
   "cell_type": "code",
   "execution_count": 10,
   "metadata": {},
   "outputs": [
    {
     "data": {
      "text/html": [
       "<div>\n",
       "<style>\n",
       "    .dataframe thead tr:only-child th {\n",
       "        text-align: right;\n",
       "    }\n",
       "\n",
       "    .dataframe thead th {\n",
       "        text-align: left;\n",
       "    }\n",
       "\n",
       "    .dataframe tbody tr th {\n",
       "        vertical-align: top;\n",
       "    }\n",
       "</style>\n",
       "<table border=\"1\" class=\"dataframe\">\n",
       "  <thead>\n",
       "    <tr style=\"text-align: right;\">\n",
       "      <th></th>\n",
       "      <th>class</th>\n",
       "      <th>filename</th>\n",
       "    </tr>\n",
       "  </thead>\n",
       "  <tbody>\n",
       "    <tr>\n",
       "      <th>0</th>\n",
       "      <td>1</td>\n",
       "      <td>WCSD0006.csv</td>\n",
       "    </tr>\n",
       "    <tr>\n",
       "      <th>1</th>\n",
       "      <td>1</td>\n",
       "      <td>WCSD0007.csv</td>\n",
       "    </tr>\n",
       "    <tr>\n",
       "      <th>2</th>\n",
       "      <td>0</td>\n",
       "      <td>WCSD0008.csv</td>\n",
       "    </tr>\n",
       "    <tr>\n",
       "      <th>3</th>\n",
       "      <td>0</td>\n",
       "      <td>WCSD0009.csv</td>\n",
       "    </tr>\n",
       "  </tbody>\n",
       "</table>\n",
       "</div>"
      ],
      "text/plain": [
       "   class      filename\n",
       "0      1  WCSD0006.csv\n",
       "1      1  WCSD0007.csv\n",
       "2      0  WCSD0008.csv\n",
       "3      0  WCSD0009.csv"
      ]
     },
     "execution_count": 10,
     "metadata": {},
     "output_type": "execute_result"
    }
   ],
   "source": [
    "class_data=pd.read_excel(class_filename)\n",
    "class_data.head()"
   ]
  },
  {
   "cell_type": "code",
   "execution_count": null,
   "metadata": {},
   "outputs": [],
   "source": []
  }
 ],
 "metadata": {
  "kernelspec": {
   "display_name": "Python 3.6",
   "language": "python",
   "name": "python36"
  },
  "language_info": {
   "codemirror_mode": {
    "name": "ipython",
    "version": 3
   },
   "file_extension": ".py",
   "mimetype": "text/x-python",
   "name": "python",
   "nbconvert_exporter": "python",
   "pygments_lexer": "ipython3",
   "version": "3.6.3"
  }
 },
 "nbformat": 4,
 "nbformat_minor": 2
}
